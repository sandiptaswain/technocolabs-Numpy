{
 "cells": [
  {
   "cell_type": "markdown",
   "id": "d28dc236",
   "metadata": {
    "papermill": {
     "duration": 0.00669,
     "end_time": "2023-07-14T03:36:43.387947",
     "exception": false,
     "start_time": "2023-07-14T03:36:43.381257",
     "status": "completed"
    },
    "tags": []
   },
   "source": [
    "**This notebook is an exercise in the [Pandas](https://www.kaggle.com/learn/pandas) course.  You can reference the tutorial at [this link](https://www.kaggle.com/residentmario/summary-functions-and-maps).**\n",
    "\n",
    "---\n"
   ]
  },
  {
   "cell_type": "markdown",
   "id": "f82730c1",
   "metadata": {
    "papermill": {
     "duration": 0.006049,
     "end_time": "2023-07-14T03:36:43.402010",
     "exception": false,
     "start_time": "2023-07-14T03:36:43.395961",
     "status": "completed"
    },
    "tags": []
   },
   "source": [
    "# Introduction\n",
    "\n",
    "Now you are ready to get a deeper understanding of your data.\n",
    "\n",
    "Run the following cell to load your data and some utility functions (including code to check your answers)."
   ]
  },
  {
   "cell_type": "code",
   "execution_count": 1,
   "id": "164691b8",
   "metadata": {
    "execution": {
     "iopub.execute_input": "2023-07-14T03:36:43.418263Z",
     "iopub.status.busy": "2023-07-14T03:36:43.417744Z",
     "iopub.status.idle": "2023-07-14T03:36:50.734876Z",
     "shell.execute_reply": "2023-07-14T03:36:50.733119Z"
    },
    "papermill": {
     "duration": 7.329806,
     "end_time": "2023-07-14T03:36:50.738657",
     "exception": false,
     "start_time": "2023-07-14T03:36:43.408851",
     "status": "completed"
    },
    "tags": []
   },
   "outputs": [
    {
     "name": "stdout",
     "output_type": "stream",
     "text": [
      "Setup complete.\n"
     ]
    },
    {
     "data": {
      "text/html": [
       "<div>\n",
       "<style scoped>\n",
       "    .dataframe tbody tr th:only-of-type {\n",
       "        vertical-align: middle;\n",
       "    }\n",
       "\n",
       "    .dataframe tbody tr th {\n",
       "        vertical-align: top;\n",
       "    }\n",
       "\n",
       "    .dataframe thead th {\n",
       "        text-align: right;\n",
       "    }\n",
       "</style>\n",
       "<table border=\"1\" class=\"dataframe\">\n",
       "  <thead>\n",
       "    <tr style=\"text-align: right;\">\n",
       "      <th></th>\n",
       "      <th>country</th>\n",
       "      <th>description</th>\n",
       "      <th>designation</th>\n",
       "      <th>points</th>\n",
       "      <th>price</th>\n",
       "      <th>province</th>\n",
       "      <th>region_1</th>\n",
       "      <th>region_2</th>\n",
       "      <th>taster_name</th>\n",
       "      <th>taster_twitter_handle</th>\n",
       "      <th>title</th>\n",
       "      <th>variety</th>\n",
       "      <th>winery</th>\n",
       "    </tr>\n",
       "  </thead>\n",
       "  <tbody>\n",
       "    <tr>\n",
       "      <th>0</th>\n",
       "      <td>Italy</td>\n",
       "      <td>Aromas include tropical fruit, broom, brimston...</td>\n",
       "      <td>Vulkà Bianco</td>\n",
       "      <td>87</td>\n",
       "      <td>NaN</td>\n",
       "      <td>Sicily &amp; Sardinia</td>\n",
       "      <td>Etna</td>\n",
       "      <td>NaN</td>\n",
       "      <td>Kerin O’Keefe</td>\n",
       "      <td>@kerinokeefe</td>\n",
       "      <td>Nicosia 2013 Vulkà Bianco  (Etna)</td>\n",
       "      <td>White Blend</td>\n",
       "      <td>Nicosia</td>\n",
       "    </tr>\n",
       "    <tr>\n",
       "      <th>1</th>\n",
       "      <td>Portugal</td>\n",
       "      <td>This is ripe and fruity, a wine that is smooth...</td>\n",
       "      <td>Avidagos</td>\n",
       "      <td>87</td>\n",
       "      <td>15.0</td>\n",
       "      <td>Douro</td>\n",
       "      <td>NaN</td>\n",
       "      <td>NaN</td>\n",
       "      <td>Roger Voss</td>\n",
       "      <td>@vossroger</td>\n",
       "      <td>Quinta dos Avidagos 2011 Avidagos Red (Douro)</td>\n",
       "      <td>Portuguese Red</td>\n",
       "      <td>Quinta dos Avidagos</td>\n",
       "    </tr>\n",
       "    <tr>\n",
       "      <th>2</th>\n",
       "      <td>US</td>\n",
       "      <td>Tart and snappy, the flavors of lime flesh and...</td>\n",
       "      <td>NaN</td>\n",
       "      <td>87</td>\n",
       "      <td>14.0</td>\n",
       "      <td>Oregon</td>\n",
       "      <td>Willamette Valley</td>\n",
       "      <td>Willamette Valley</td>\n",
       "      <td>Paul Gregutt</td>\n",
       "      <td>@paulgwine</td>\n",
       "      <td>Rainstorm 2013 Pinot Gris (Willamette Valley)</td>\n",
       "      <td>Pinot Gris</td>\n",
       "      <td>Rainstorm</td>\n",
       "    </tr>\n",
       "    <tr>\n",
       "      <th>3</th>\n",
       "      <td>US</td>\n",
       "      <td>Pineapple rind, lemon pith and orange blossom ...</td>\n",
       "      <td>Reserve Late Harvest</td>\n",
       "      <td>87</td>\n",
       "      <td>13.0</td>\n",
       "      <td>Michigan</td>\n",
       "      <td>Lake Michigan Shore</td>\n",
       "      <td>NaN</td>\n",
       "      <td>Alexander Peartree</td>\n",
       "      <td>NaN</td>\n",
       "      <td>St. Julian 2013 Reserve Late Harvest Riesling ...</td>\n",
       "      <td>Riesling</td>\n",
       "      <td>St. Julian</td>\n",
       "    </tr>\n",
       "    <tr>\n",
       "      <th>4</th>\n",
       "      <td>US</td>\n",
       "      <td>Much like the regular bottling from 2012, this...</td>\n",
       "      <td>Vintner's Reserve Wild Child Block</td>\n",
       "      <td>87</td>\n",
       "      <td>65.0</td>\n",
       "      <td>Oregon</td>\n",
       "      <td>Willamette Valley</td>\n",
       "      <td>Willamette Valley</td>\n",
       "      <td>Paul Gregutt</td>\n",
       "      <td>@paulgwine</td>\n",
       "      <td>Sweet Cheeks 2012 Vintner's Reserve Wild Child...</td>\n",
       "      <td>Pinot Noir</td>\n",
       "      <td>Sweet Cheeks</td>\n",
       "    </tr>\n",
       "  </tbody>\n",
       "</table>\n",
       "</div>"
      ],
      "text/plain": [
       "    country                                        description  \\\n",
       "0     Italy  Aromas include tropical fruit, broom, brimston...   \n",
       "1  Portugal  This is ripe and fruity, a wine that is smooth...   \n",
       "2        US  Tart and snappy, the flavors of lime flesh and...   \n",
       "3        US  Pineapple rind, lemon pith and orange blossom ...   \n",
       "4        US  Much like the regular bottling from 2012, this...   \n",
       "\n",
       "                          designation  points  price           province  \\\n",
       "0                        Vulkà Bianco      87    NaN  Sicily & Sardinia   \n",
       "1                            Avidagos      87   15.0              Douro   \n",
       "2                                 NaN      87   14.0             Oregon   \n",
       "3                Reserve Late Harvest      87   13.0           Michigan   \n",
       "4  Vintner's Reserve Wild Child Block      87   65.0             Oregon   \n",
       "\n",
       "              region_1           region_2         taster_name  \\\n",
       "0                 Etna                NaN       Kerin O’Keefe   \n",
       "1                  NaN                NaN          Roger Voss   \n",
       "2    Willamette Valley  Willamette Valley        Paul Gregutt   \n",
       "3  Lake Michigan Shore                NaN  Alexander Peartree   \n",
       "4    Willamette Valley  Willamette Valley        Paul Gregutt   \n",
       "\n",
       "  taster_twitter_handle                                              title  \\\n",
       "0          @kerinokeefe                  Nicosia 2013 Vulkà Bianco  (Etna)   \n",
       "1            @vossroger      Quinta dos Avidagos 2011 Avidagos Red (Douro)   \n",
       "2           @paulgwine       Rainstorm 2013 Pinot Gris (Willamette Valley)   \n",
       "3                   NaN  St. Julian 2013 Reserve Late Harvest Riesling ...   \n",
       "4           @paulgwine   Sweet Cheeks 2012 Vintner's Reserve Wild Child...   \n",
       "\n",
       "          variety               winery  \n",
       "0     White Blend              Nicosia  \n",
       "1  Portuguese Red  Quinta dos Avidagos  \n",
       "2      Pinot Gris            Rainstorm  \n",
       "3        Riesling           St. Julian  \n",
       "4      Pinot Noir         Sweet Cheeks  "
      ]
     },
     "execution_count": 1,
     "metadata": {},
     "output_type": "execute_result"
    }
   ],
   "source": [
    "import pandas as pd\n",
    "pd.set_option(\"display.max_rows\", 5)\n",
    "reviews = pd.read_csv(\"../input/wine-reviews/winemag-data-130k-v2.csv\", index_col=0)\n",
    "\n",
    "from learntools.core import binder; binder.bind(globals())\n",
    "from learntools.pandas.summary_functions_and_maps import *\n",
    "print(\"Setup complete.\")\n",
    "\n",
    "reviews.head()"
   ]
  },
  {
   "cell_type": "markdown",
   "id": "0547da65",
   "metadata": {
    "papermill": {
     "duration": 0.006299,
     "end_time": "2023-07-14T03:36:50.752626",
     "exception": false,
     "start_time": "2023-07-14T03:36:50.746327",
     "status": "completed"
    },
    "tags": []
   },
   "source": [
    "# Exercises"
   ]
  },
  {
   "cell_type": "markdown",
   "id": "e7d7688e",
   "metadata": {
    "papermill": {
     "duration": 0.006329,
     "end_time": "2023-07-14T03:36:50.766278",
     "exception": false,
     "start_time": "2023-07-14T03:36:50.759949",
     "status": "completed"
    },
    "tags": []
   },
   "source": [
    "## 1.\n",
    "\n",
    "What is the median of the `points` column in the `reviews` DataFrame?"
   ]
  },
  {
   "cell_type": "code",
   "execution_count": 2,
   "id": "d7b0fd83",
   "metadata": {
    "execution": {
     "iopub.execute_input": "2023-07-14T03:36:50.780884Z",
     "iopub.status.busy": "2023-07-14T03:36:50.780230Z",
     "iopub.status.idle": "2023-07-14T03:36:50.791932Z",
     "shell.execute_reply": "2023-07-14T03:36:50.791072Z"
    },
    "papermill": {
     "duration": 0.021255,
     "end_time": "2023-07-14T03:36:50.793914",
     "exception": false,
     "start_time": "2023-07-14T03:36:50.772659",
     "status": "completed"
    },
    "tags": []
   },
   "outputs": [
    {
     "data": {
      "application/javascript": [
       "parent.postMessage({\"jupyterEvent\": \"custom.exercise_interaction\", \"data\": {\"outcomeType\": 1, \"valueTowardsCompletion\": 0.14285714285714285, \"interactionType\": 1, \"questionType\": 1, \"questionId\": \"1_MedianPoints\", \"learnToolsVersion\": \"0.3.4\", \"failureMessage\": \"\", \"exceptionClass\": \"\", \"trace\": \"\"}}, \"*\")"
      ],
      "text/plain": [
       "<IPython.core.display.Javascript object>"
      ]
     },
     "metadata": {},
     "output_type": "display_data"
    },
    {
     "data": {
      "text/markdown": [
       "<span style=\"color:#33cc33\">Correct</span>"
      ],
      "text/plain": [
       "Correct"
      ]
     },
     "metadata": {},
     "output_type": "display_data"
    }
   ],
   "source": [
    "median_points = reviews.points.median()\n",
    "\n",
    "# Check your answer\n",
    "q1.check()"
   ]
  },
  {
   "cell_type": "code",
   "execution_count": 3,
   "id": "4634538a",
   "metadata": {
    "execution": {
     "iopub.execute_input": "2023-07-14T03:36:50.811403Z",
     "iopub.status.busy": "2023-07-14T03:36:50.810732Z",
     "iopub.status.idle": "2023-07-14T03:36:50.815577Z",
     "shell.execute_reply": "2023-07-14T03:36:50.814392Z"
    },
    "papermill": {
     "duration": 0.017014,
     "end_time": "2023-07-14T03:36:50.818455",
     "exception": false,
     "start_time": "2023-07-14T03:36:50.801441",
     "status": "completed"
    },
    "tags": []
   },
   "outputs": [],
   "source": [
    "#q1.hint()\n",
    "#q1.solution()"
   ]
  },
  {
   "cell_type": "markdown",
   "id": "fa539aa1",
   "metadata": {
    "papermill": {
     "duration": 0.008953,
     "end_time": "2023-07-14T03:36:50.834558",
     "exception": false,
     "start_time": "2023-07-14T03:36:50.825605",
     "status": "completed"
    },
    "tags": []
   },
   "source": [
    "## 2. \n",
    "What countries are represented in the dataset? (Your answer should not include any duplicates.)"
   ]
  },
  {
   "cell_type": "code",
   "execution_count": 4,
   "id": "e633b950",
   "metadata": {
    "execution": {
     "iopub.execute_input": "2023-07-14T03:36:50.853058Z",
     "iopub.status.busy": "2023-07-14T03:36:50.852392Z",
     "iopub.status.idle": "2023-07-14T03:36:50.870333Z",
     "shell.execute_reply": "2023-07-14T03:36:50.869181Z"
    },
    "papermill": {
     "duration": 0.029689,
     "end_time": "2023-07-14T03:36:50.873241",
     "exception": false,
     "start_time": "2023-07-14T03:36:50.843552",
     "status": "completed"
    },
    "tags": []
   },
   "outputs": [
    {
     "data": {
      "application/javascript": [
       "parent.postMessage({\"jupyterEvent\": \"custom.exercise_interaction\", \"data\": {\"outcomeType\": 1, \"valueTowardsCompletion\": 0.14285714285714285, \"interactionType\": 1, \"questionType\": 2, \"questionId\": \"2_UniqueCountries\", \"learnToolsVersion\": \"0.3.4\", \"failureMessage\": \"\", \"exceptionClass\": \"\", \"trace\": \"\"}}, \"*\")"
      ],
      "text/plain": [
       "<IPython.core.display.Javascript object>"
      ]
     },
     "metadata": {},
     "output_type": "display_data"
    },
    {
     "data": {
      "text/markdown": [
       "<span style=\"color:#33cc33\">Correct</span>"
      ],
      "text/plain": [
       "Correct"
      ]
     },
     "metadata": {},
     "output_type": "display_data"
    }
   ],
   "source": [
    "countries = reviews.country.unique()\n",
    "\n",
    "# Check your answer\n",
    "q2.check()"
   ]
  },
  {
   "cell_type": "code",
   "execution_count": 5,
   "id": "1b945279",
   "metadata": {
    "execution": {
     "iopub.execute_input": "2023-07-14T03:36:50.892361Z",
     "iopub.status.busy": "2023-07-14T03:36:50.891416Z",
     "iopub.status.idle": "2023-07-14T03:36:50.895567Z",
     "shell.execute_reply": "2023-07-14T03:36:50.894729Z"
    },
    "papermill": {
     "duration": 0.017453,
     "end_time": "2023-07-14T03:36:50.899178",
     "exception": false,
     "start_time": "2023-07-14T03:36:50.881725",
     "status": "completed"
    },
    "tags": []
   },
   "outputs": [],
   "source": [
    "#q2.hint()\n",
    "#q2.solution()"
   ]
  },
  {
   "cell_type": "markdown",
   "id": "2cffbaac",
   "metadata": {
    "papermill": {
     "duration": 0.007853,
     "end_time": "2023-07-14T03:36:50.915035",
     "exception": false,
     "start_time": "2023-07-14T03:36:50.907182",
     "status": "completed"
    },
    "tags": []
   },
   "source": [
    "## 3.\n",
    "How often does each country appear in the dataset? Create a Series `reviews_per_country` mapping countries to the count of reviews of wines from that country."
   ]
  },
  {
   "cell_type": "code",
   "execution_count": 6,
   "id": "b35beea9",
   "metadata": {
    "execution": {
     "iopub.execute_input": "2023-07-14T03:36:50.931982Z",
     "iopub.status.busy": "2023-07-14T03:36:50.931241Z",
     "iopub.status.idle": "2023-07-14T03:36:50.950792Z",
     "shell.execute_reply": "2023-07-14T03:36:50.949362Z"
    },
    "papermill": {
     "duration": 0.030837,
     "end_time": "2023-07-14T03:36:50.953324",
     "exception": false,
     "start_time": "2023-07-14T03:36:50.922487",
     "status": "completed"
    },
    "tags": []
   },
   "outputs": [
    {
     "data": {
      "application/javascript": [
       "parent.postMessage({\"jupyterEvent\": \"custom.exercise_interaction\", \"data\": {\"outcomeType\": 1, \"valueTowardsCompletion\": 0.14285714285714285, \"interactionType\": 1, \"questionType\": 1, \"questionId\": \"3_ReviewsPerCountry\", \"learnToolsVersion\": \"0.3.4\", \"failureMessage\": \"\", \"exceptionClass\": \"\", \"trace\": \"\"}}, \"*\")"
      ],
      "text/plain": [
       "<IPython.core.display.Javascript object>"
      ]
     },
     "metadata": {},
     "output_type": "display_data"
    },
    {
     "data": {
      "text/markdown": [
       "<span style=\"color:#33cc33\">Correct</span>"
      ],
      "text/plain": [
       "Correct"
      ]
     },
     "metadata": {},
     "output_type": "display_data"
    }
   ],
   "source": [
    "reviews_per_country = reviews.country.value_counts()\n",
    "\n",
    "# Check your answer\n",
    "q3.check()"
   ]
  },
  {
   "cell_type": "code",
   "execution_count": 7,
   "id": "1726661d",
   "metadata": {
    "execution": {
     "iopub.execute_input": "2023-07-14T03:36:50.970761Z",
     "iopub.status.busy": "2023-07-14T03:36:50.970288Z",
     "iopub.status.idle": "2023-07-14T03:36:50.975700Z",
     "shell.execute_reply": "2023-07-14T03:36:50.974395Z"
    },
    "papermill": {
     "duration": 0.017045,
     "end_time": "2023-07-14T03:36:50.978322",
     "exception": false,
     "start_time": "2023-07-14T03:36:50.961277",
     "status": "completed"
    },
    "tags": []
   },
   "outputs": [],
   "source": [
    "#q3.hint()\n",
    "#q3.solution()"
   ]
  },
  {
   "cell_type": "markdown",
   "id": "e199b5e6",
   "metadata": {
    "papermill": {
     "duration": 0.006957,
     "end_time": "2023-07-14T03:36:50.992904",
     "exception": false,
     "start_time": "2023-07-14T03:36:50.985947",
     "status": "completed"
    },
    "tags": []
   },
   "source": [
    "## 4.\n",
    "Create variable `centered_price` containing a version of the `price` column with the mean price subtracted.\n",
    "\n",
    "(Note: this 'centering' transformation is a common preprocessing step before applying various machine learning algorithms.) "
   ]
  },
  {
   "cell_type": "code",
   "execution_count": 8,
   "id": "3442bc36",
   "metadata": {
    "execution": {
     "iopub.execute_input": "2023-07-14T03:36:51.010051Z",
     "iopub.status.busy": "2023-07-14T03:36:51.009251Z",
     "iopub.status.idle": "2023-07-14T03:36:51.021493Z",
     "shell.execute_reply": "2023-07-14T03:36:51.020222Z"
    },
    "papermill": {
     "duration": 0.023817,
     "end_time": "2023-07-14T03:36:51.023873",
     "exception": false,
     "start_time": "2023-07-14T03:36:51.000056",
     "status": "completed"
    },
    "tags": []
   },
   "outputs": [
    {
     "data": {
      "application/javascript": [
       "parent.postMessage({\"jupyterEvent\": \"custom.exercise_interaction\", \"data\": {\"outcomeType\": 1, \"valueTowardsCompletion\": 0.14285714285714285, \"interactionType\": 1, \"questionType\": 1, \"questionId\": \"4_CenteredPrice\", \"learnToolsVersion\": \"0.3.4\", \"failureMessage\": \"\", \"exceptionClass\": \"\", \"trace\": \"\"}}, \"*\")"
      ],
      "text/plain": [
       "<IPython.core.display.Javascript object>"
      ]
     },
     "metadata": {},
     "output_type": "display_data"
    },
    {
     "data": {
      "text/markdown": [
       "<span style=\"color:#33cc33\">Correct</span>"
      ],
      "text/plain": [
       "Correct"
      ]
     },
     "metadata": {},
     "output_type": "display_data"
    }
   ],
   "source": [
    "centered_price = reviews.price-reviews.price.mean()\n",
    "\n",
    "# Check your answer\n",
    "q4.check()"
   ]
  },
  {
   "cell_type": "code",
   "execution_count": 9,
   "id": "979765cb",
   "metadata": {
    "execution": {
     "iopub.execute_input": "2023-07-14T03:36:51.042037Z",
     "iopub.status.busy": "2023-07-14T03:36:51.041249Z",
     "iopub.status.idle": "2023-07-14T03:36:51.046870Z",
     "shell.execute_reply": "2023-07-14T03:36:51.045553Z"
    },
    "papermill": {
     "duration": 0.017471,
     "end_time": "2023-07-14T03:36:51.049240",
     "exception": false,
     "start_time": "2023-07-14T03:36:51.031769",
     "status": "completed"
    },
    "tags": []
   },
   "outputs": [],
   "source": [
    "#q4.hint()\n",
    "#q4.solution()"
   ]
  },
  {
   "cell_type": "markdown",
   "id": "fd03ba4a",
   "metadata": {
    "papermill": {
     "duration": 0.007781,
     "end_time": "2023-07-14T03:36:51.066446",
     "exception": false,
     "start_time": "2023-07-14T03:36:51.058665",
     "status": "completed"
    },
    "tags": []
   },
   "source": [
    "## 5.\n",
    "I'm an economical wine buyer. Which wine is the \"best bargain\"? Create a variable `bargain_wine` with the title of the wine with the highest points-to-price ratio in the dataset."
   ]
  },
  {
   "cell_type": "code",
   "execution_count": 10,
   "id": "44d43cde",
   "metadata": {
    "execution": {
     "iopub.execute_input": "2023-07-14T03:36:51.086124Z",
     "iopub.status.busy": "2023-07-14T03:36:51.084954Z",
     "iopub.status.idle": "2023-07-14T03:36:51.100895Z",
     "shell.execute_reply": "2023-07-14T03:36:51.099648Z"
    },
    "papermill": {
     "duration": 0.029063,
     "end_time": "2023-07-14T03:36:51.103389",
     "exception": false,
     "start_time": "2023-07-14T03:36:51.074326",
     "status": "completed"
    },
    "tags": []
   },
   "outputs": [
    {
     "data": {
      "application/javascript": [
       "parent.postMessage({\"jupyterEvent\": \"custom.exercise_interaction\", \"data\": {\"outcomeType\": 1, \"valueTowardsCompletion\": 0.14285714285714285, \"interactionType\": 1, \"questionType\": 2, \"questionId\": \"5_BargainWine\", \"learnToolsVersion\": \"0.3.4\", \"failureMessage\": \"\", \"exceptionClass\": \"\", \"trace\": \"\"}}, \"*\")"
      ],
      "text/plain": [
       "<IPython.core.display.Javascript object>"
      ]
     },
     "metadata": {},
     "output_type": "display_data"
    },
    {
     "data": {
      "text/markdown": [
       "<span style=\"color:#33cc33\">Correct</span>"
      ],
      "text/plain": [
       "Correct"
      ]
     },
     "metadata": {},
     "output_type": "display_data"
    }
   ],
   "source": [
    "bargain_idx=(reviews.points/reviews.price).idxmax()\n",
    "bargain_wine = reviews.loc[bargain_idx,'title']\n",
    "\n",
    "# Check your answer\n",
    "q5.check()"
   ]
  },
  {
   "cell_type": "code",
   "execution_count": 11,
   "id": "dc187e5a",
   "metadata": {
    "execution": {
     "iopub.execute_input": "2023-07-14T03:36:51.122628Z",
     "iopub.status.busy": "2023-07-14T03:36:51.121860Z",
     "iopub.status.idle": "2023-07-14T03:36:51.127626Z",
     "shell.execute_reply": "2023-07-14T03:36:51.126125Z"
    },
    "papermill": {
     "duration": 0.018772,
     "end_time": "2023-07-14T03:36:51.130221",
     "exception": false,
     "start_time": "2023-07-14T03:36:51.111449",
     "status": "completed"
    },
    "tags": []
   },
   "outputs": [],
   "source": [
    "#q5.hint()\n",
    "#q5.solution()"
   ]
  },
  {
   "cell_type": "markdown",
   "id": "1520dd65",
   "metadata": {
    "papermill": {
     "duration": 0.008298,
     "end_time": "2023-07-14T03:36:51.147710",
     "exception": false,
     "start_time": "2023-07-14T03:36:51.139412",
     "status": "completed"
    },
    "tags": []
   },
   "source": [
    "## 6.\n",
    "There are only so many words you can use when describing a bottle of wine. Is a wine more likely to be \"tropical\" or \"fruity\"? Create a Series `descriptor_counts` counting how many times each of these two words appears in the `description` column in the dataset. (For simplicity, let's ignore the capitalized versions of these words.)"
   ]
  },
  {
   "cell_type": "code",
   "execution_count": 12,
   "id": "a76aa412",
   "metadata": {
    "execution": {
     "iopub.execute_input": "2023-07-14T03:36:51.166989Z",
     "iopub.status.busy": "2023-07-14T03:36:51.166599Z",
     "iopub.status.idle": "2023-07-14T03:36:51.313615Z",
     "shell.execute_reply": "2023-07-14T03:36:51.311732Z"
    },
    "papermill": {
     "duration": 0.158942,
     "end_time": "2023-07-14T03:36:51.316325",
     "exception": false,
     "start_time": "2023-07-14T03:36:51.157383",
     "status": "completed"
    },
    "tags": []
   },
   "outputs": [
    {
     "data": {
      "application/javascript": [
       "parent.postMessage({\"jupyterEvent\": \"custom.exercise_interaction\", \"data\": {\"outcomeType\": 1, \"valueTowardsCompletion\": 0.14285714285714285, \"interactionType\": 1, \"questionType\": 1, \"questionId\": \"6_DescriptorCounts\", \"learnToolsVersion\": \"0.3.4\", \"failureMessage\": \"\", \"exceptionClass\": \"\", \"trace\": \"\"}}, \"*\")"
      ],
      "text/plain": [
       "<IPython.core.display.Javascript object>"
      ]
     },
     "metadata": {},
     "output_type": "display_data"
    },
    {
     "data": {
      "text/markdown": [
       "<span style=\"color:#33cc33\">Correct</span>"
      ],
      "text/plain": [
       "Correct"
      ]
     },
     "metadata": {},
     "output_type": "display_data"
    }
   ],
   "source": [
    "n_trop=reviews.description.map(lambda desc:\"tropical\" in desc).sum()\n",
    "n_fruity=reviews.description.map(lambda desc:\"fruity\"in desc).sum()\n",
    "descriptor_counts = pd.Series([n_trop, n_fruity], index=['tropical', 'fruity'])\n",
    "\n",
    "# Check your answer\n",
    "q6.check()"
   ]
  },
  {
   "cell_type": "code",
   "execution_count": 13,
   "id": "379300d3",
   "metadata": {
    "execution": {
     "iopub.execute_input": "2023-07-14T03:36:51.335186Z",
     "iopub.status.busy": "2023-07-14T03:36:51.333844Z",
     "iopub.status.idle": "2023-07-14T03:36:51.338616Z",
     "shell.execute_reply": "2023-07-14T03:36:51.337710Z"
    },
    "papermill": {
     "duration": 0.017069,
     "end_time": "2023-07-14T03:36:51.341414",
     "exception": false,
     "start_time": "2023-07-14T03:36:51.324345",
     "status": "completed"
    },
    "tags": []
   },
   "outputs": [],
   "source": [
    "#q6.hint()\n",
    "#q6.solution()"
   ]
  },
  {
   "cell_type": "markdown",
   "id": "88ec0212",
   "metadata": {
    "papermill": {
     "duration": 0.008561,
     "end_time": "2023-07-14T03:36:51.358193",
     "exception": false,
     "start_time": "2023-07-14T03:36:51.349632",
     "status": "completed"
    },
    "tags": []
   },
   "source": [
    "## 7.\n",
    "We'd like to host these wine reviews on our website, but a rating system ranging from 80 to 100 points is too hard to understand - we'd like to translate them into simple star ratings. A score of 95 or higher counts as 3 stars, a score of at least 85 but less than 95 is 2 stars. Any other score is 1 star.\n",
    "\n",
    "Also, the Canadian Vintners Association bought a lot of ads on the site, so any wines from Canada should automatically get 3 stars, regardless of points.\n",
    "\n",
    "Create a series `star_ratings` with the number of stars corresponding to each review in the dataset."
   ]
  },
  {
   "cell_type": "code",
   "execution_count": 14,
   "id": "18afcf91",
   "metadata": {
    "execution": {
     "iopub.execute_input": "2023-07-14T03:36:51.379289Z",
     "iopub.status.busy": "2023-07-14T03:36:51.378330Z",
     "iopub.status.idle": "2023-07-14T03:36:55.111292Z",
     "shell.execute_reply": "2023-07-14T03:36:55.109838Z"
    },
    "papermill": {
     "duration": 3.74993,
     "end_time": "2023-07-14T03:36:55.116986",
     "exception": false,
     "start_time": "2023-07-14T03:36:51.367056",
     "status": "completed"
    },
    "tags": []
   },
   "outputs": [
    {
     "data": {
      "application/javascript": [
       "parent.postMessage({\"jupyterEvent\": \"custom.exercise_interaction\", \"data\": {\"outcomeType\": 1, \"valueTowardsCompletion\": 0.14285714285714285, \"interactionType\": 1, \"questionType\": 1, \"questionId\": \"7_StarRatings\", \"learnToolsVersion\": \"0.3.4\", \"failureMessage\": \"\", \"exceptionClass\": \"\", \"trace\": \"\"}}, \"*\")"
      ],
      "text/plain": [
       "<IPython.core.display.Javascript object>"
      ]
     },
     "metadata": {},
     "output_type": "display_data"
    },
    {
     "data": {
      "text/markdown": [
       "<span style=\"color:#33cc33\">Correct</span>"
      ],
      "text/plain": [
       "Correct"
      ]
     },
     "metadata": {},
     "output_type": "display_data"
    }
   ],
   "source": [
    "def stars(row):\n",
    "    if row.country == 'Canada':\n",
    "        return 3\n",
    "    elif row.points >= 95:\n",
    "        return 3\n",
    "    elif row.points >= 85:\n",
    "        return 2\n",
    "    else:\n",
    "        return 1\n",
    "\n",
    "star_ratings = reviews.apply(stars, axis='columns')\n",
    "\n",
    "# Check your answer\n",
    "q7.check()"
   ]
  },
  {
   "cell_type": "code",
   "execution_count": 15,
   "id": "9276b1b9",
   "metadata": {
    "execution": {
     "iopub.execute_input": "2023-07-14T03:36:55.136565Z",
     "iopub.status.busy": "2023-07-14T03:36:55.136162Z",
     "iopub.status.idle": "2023-07-14T03:36:55.141653Z",
     "shell.execute_reply": "2023-07-14T03:36:55.140074Z"
    },
    "papermill": {
     "duration": 0.018178,
     "end_time": "2023-07-14T03:36:55.144389",
     "exception": false,
     "start_time": "2023-07-14T03:36:55.126211",
     "status": "completed"
    },
    "tags": []
   },
   "outputs": [],
   "source": [
    "#q7.hint()\n",
    "#q7.solution()"
   ]
  },
  {
   "cell_type": "markdown",
   "id": "4a182388",
   "metadata": {
    "papermill": {
     "duration": 0.009336,
     "end_time": "2023-07-14T03:36:55.162144",
     "exception": false,
     "start_time": "2023-07-14T03:36:55.152808",
     "status": "completed"
    },
    "tags": []
   },
   "source": [
    "# Keep going\n",
    "Continue to **[grouping and sorting](https://www.kaggle.com/residentmario/grouping-and-sorting)**."
   ]
  },
  {
   "cell_type": "markdown",
   "id": "0ae52b1e",
   "metadata": {
    "papermill": {
     "duration": 0.008782,
     "end_time": "2023-07-14T03:36:55.179717",
     "exception": false,
     "start_time": "2023-07-14T03:36:55.170935",
     "status": "completed"
    },
    "tags": []
   },
   "source": [
    "---\n",
    "\n",
    "\n",
    "\n",
    "\n",
    "*Have questions or comments? Visit the [course discussion forum](https://www.kaggle.com/learn/pandas/discussion) to chat with other learners.*"
   ]
  }
 ],
 "metadata": {
  "kernelspec": {
   "display_name": "Python 3",
   "language": "python",
   "name": "python3"
  },
  "language_info": {
   "codemirror_mode": {
    "name": "ipython",
    "version": 3
   },
   "file_extension": ".py",
   "mimetype": "text/x-python",
   "name": "python",
   "nbconvert_exporter": "python",
   "pygments_lexer": "ipython3",
   "version": "3.10.12"
  },
  "papermill": {
   "default_parameters": {},
   "duration": 25.680797,
   "end_time": "2023-07-14T03:36:56.315003",
   "environment_variables": {},
   "exception": null,
   "input_path": "__notebook__.ipynb",
   "output_path": "__notebook__.ipynb",
   "parameters": {},
   "start_time": "2023-07-14T03:36:30.634206",
   "version": "2.4.0"
  }
 },
 "nbformat": 4,
 "nbformat_minor": 5
}
