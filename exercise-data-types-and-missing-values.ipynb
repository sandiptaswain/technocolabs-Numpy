{
 "cells": [
  {
   "cell_type": "markdown",
   "id": "1840b175",
   "metadata": {
    "papermill": {
     "duration": 0.006423,
     "end_time": "2023-07-14T04:31:16.323120",
     "exception": false,
     "start_time": "2023-07-14T04:31:16.316697",
     "status": "completed"
    },
    "tags": []
   },
   "source": [
    "**This notebook is an exercise in the [Pandas](https://www.kaggle.com/learn/pandas) course.  You can reference the tutorial at [this link](https://www.kaggle.com/residentmario/data-types-and-missing-values).**\n",
    "\n",
    "---\n"
   ]
  },
  {
   "cell_type": "markdown",
   "id": "6a7e2bbe",
   "metadata": {
    "papermill": {
     "duration": 0.005413,
     "end_time": "2023-07-14T04:31:16.334542",
     "exception": false,
     "start_time": "2023-07-14T04:31:16.329129",
     "status": "completed"
    },
    "tags": []
   },
   "source": [
    "# Introduction\n",
    "\n",
    "Run the following cell to load your data and some utility functions."
   ]
  },
  {
   "cell_type": "code",
   "execution_count": 1,
   "id": "23976dcf",
   "metadata": {
    "execution": {
     "iopub.execute_input": "2023-07-14T04:31:16.348230Z",
     "iopub.status.busy": "2023-07-14T04:31:16.347835Z",
     "iopub.status.idle": "2023-07-14T04:31:19.780339Z",
     "shell.execute_reply": "2023-07-14T04:31:19.778998Z"
    },
    "papermill": {
     "duration": 3.443156,
     "end_time": "2023-07-14T04:31:19.783449",
     "exception": false,
     "start_time": "2023-07-14T04:31:16.340293",
     "status": "completed"
    },
    "tags": []
   },
   "outputs": [
    {
     "name": "stdout",
     "output_type": "stream",
     "text": [
      "Setup complete.\n"
     ]
    }
   ],
   "source": [
    "import pandas as pd\n",
    "\n",
    "reviews = pd.read_csv(\"../input/wine-reviews/winemag-data-130k-v2.csv\", index_col=0)\n",
    "\n",
    "from learntools.core import binder; binder.bind(globals())\n",
    "from learntools.pandas.data_types_and_missing_data import *\n",
    "print(\"Setup complete.\")"
   ]
  },
  {
   "cell_type": "markdown",
   "id": "2265eba3",
   "metadata": {
    "papermill": {
     "duration": 0.005698,
     "end_time": "2023-07-14T04:31:19.795641",
     "exception": false,
     "start_time": "2023-07-14T04:31:19.789943",
     "status": "completed"
    },
    "tags": []
   },
   "source": [
    "# Exercises"
   ]
  },
  {
   "cell_type": "markdown",
   "id": "2f803605",
   "metadata": {
    "papermill": {
     "duration": 0.005529,
     "end_time": "2023-07-14T04:31:19.807544",
     "exception": false,
     "start_time": "2023-07-14T04:31:19.802015",
     "status": "completed"
    },
    "tags": []
   },
   "source": [
    "## 1. \n",
    "What is the data type of the `points` column in the dataset?"
   ]
  },
  {
   "cell_type": "code",
   "execution_count": 2,
   "id": "abd7a0e4",
   "metadata": {
    "execution": {
     "iopub.execute_input": "2023-07-14T04:31:19.821065Z",
     "iopub.status.busy": "2023-07-14T04:31:19.820656Z",
     "iopub.status.idle": "2023-07-14T04:31:19.832064Z",
     "shell.execute_reply": "2023-07-14T04:31:19.830388Z"
    },
    "papermill": {
     "duration": 0.021559,
     "end_time": "2023-07-14T04:31:19.834916",
     "exception": false,
     "start_time": "2023-07-14T04:31:19.813357",
     "status": "completed"
    },
    "tags": []
   },
   "outputs": [
    {
     "data": {
      "application/javascript": [
       "parent.postMessage({\"jupyterEvent\": \"custom.exercise_interaction\", \"data\": {\"outcomeType\": 1, \"valueTowardsCompletion\": 0.25, \"interactionType\": 1, \"questionType\": 1, \"questionId\": \"1_PointsDtype\", \"learnToolsVersion\": \"0.3.4\", \"failureMessage\": \"\", \"exceptionClass\": \"\", \"trace\": \"\"}}, \"*\")"
      ],
      "text/plain": [
       "<IPython.core.display.Javascript object>"
      ]
     },
     "metadata": {},
     "output_type": "display_data"
    },
    {
     "data": {
      "text/markdown": [
       "<span style=\"color:#33cc33\">Correct</span>"
      ],
      "text/plain": [
       "Correct"
      ]
     },
     "metadata": {},
     "output_type": "display_data"
    }
   ],
   "source": [
    "# Your code here\n",
    "dtype = reviews.points.dtype\n",
    "\n",
    "# Check your answer\n",
    "q1.check()"
   ]
  },
  {
   "cell_type": "code",
   "execution_count": 3,
   "id": "21c5439d",
   "metadata": {
    "execution": {
     "iopub.execute_input": "2023-07-14T04:31:19.850186Z",
     "iopub.status.busy": "2023-07-14T04:31:19.849751Z",
     "iopub.status.idle": "2023-07-14T04:31:19.855624Z",
     "shell.execute_reply": "2023-07-14T04:31:19.853415Z"
    },
    "papermill": {
     "duration": 0.017246,
     "end_time": "2023-07-14T04:31:19.858559",
     "exception": false,
     "start_time": "2023-07-14T04:31:19.841313",
     "status": "completed"
    },
    "tags": []
   },
   "outputs": [],
   "source": [
    "#q1.hint()\n",
    "#q1.solution()"
   ]
  },
  {
   "cell_type": "markdown",
   "id": "2cdaa52e",
   "metadata": {
    "papermill": {
     "duration": 0.006749,
     "end_time": "2023-07-14T04:31:19.871645",
     "exception": false,
     "start_time": "2023-07-14T04:31:19.864896",
     "status": "completed"
    },
    "tags": []
   },
   "source": [
    "## 2. \n",
    "Create a Series from entries in the `points` column, but convert the entries to strings. Hint: strings are `str` in native Python."
   ]
  },
  {
   "cell_type": "code",
   "execution_count": 4,
   "id": "4edefc6f",
   "metadata": {
    "execution": {
     "iopub.execute_input": "2023-07-14T04:31:19.887504Z",
     "iopub.status.busy": "2023-07-14T04:31:19.886629Z",
     "iopub.status.idle": "2023-07-14T04:31:19.994462Z",
     "shell.execute_reply": "2023-07-14T04:31:19.992749Z"
    },
    "papermill": {
     "duration": 0.118651,
     "end_time": "2023-07-14T04:31:19.997336",
     "exception": false,
     "start_time": "2023-07-14T04:31:19.878685",
     "status": "completed"
    },
    "tags": []
   },
   "outputs": [
    {
     "data": {
      "application/javascript": [
       "parent.postMessage({\"jupyterEvent\": \"custom.exercise_interaction\", \"data\": {\"outcomeType\": 1, \"valueTowardsCompletion\": 0.25, \"interactionType\": 1, \"questionType\": 1, \"questionId\": \"2_StrPoints\", \"learnToolsVersion\": \"0.3.4\", \"failureMessage\": \"\", \"exceptionClass\": \"\", \"trace\": \"\"}}, \"*\")"
      ],
      "text/plain": [
       "<IPython.core.display.Javascript object>"
      ]
     },
     "metadata": {},
     "output_type": "display_data"
    },
    {
     "data": {
      "text/markdown": [
       "<span style=\"color:#33cc33\">Correct</span>"
      ],
      "text/plain": [
       "Correct"
      ]
     },
     "metadata": {},
     "output_type": "display_data"
    }
   ],
   "source": [
    "point_strings = reviews.points.astype(str)\n",
    "\n",
    "# Check your answer\n",
    "q2.check()"
   ]
  },
  {
   "cell_type": "code",
   "execution_count": 5,
   "id": "b4e90feb",
   "metadata": {
    "execution": {
     "iopub.execute_input": "2023-07-14T04:31:20.014312Z",
     "iopub.status.busy": "2023-07-14T04:31:20.013868Z",
     "iopub.status.idle": "2023-07-14T04:31:20.019338Z",
     "shell.execute_reply": "2023-07-14T04:31:20.017954Z"
    },
    "papermill": {
     "duration": 0.017661,
     "end_time": "2023-07-14T04:31:20.022070",
     "exception": false,
     "start_time": "2023-07-14T04:31:20.004409",
     "status": "completed"
    },
    "tags": []
   },
   "outputs": [],
   "source": [
    "#q2.hint()\n",
    "#q2.solution()"
   ]
  },
  {
   "cell_type": "markdown",
   "id": "2b72e45f",
   "metadata": {
    "papermill": {
     "duration": 0.006432,
     "end_time": "2023-07-14T04:31:20.037394",
     "exception": false,
     "start_time": "2023-07-14T04:31:20.030962",
     "status": "completed"
    },
    "tags": []
   },
   "source": [
    "## 3.\n",
    "Sometimes the price column is null. How many reviews in the dataset are missing a price?"
   ]
  },
  {
   "cell_type": "code",
   "execution_count": 6,
   "id": "d24b26cd",
   "metadata": {
    "execution": {
     "iopub.execute_input": "2023-07-14T04:31:20.052430Z",
     "iopub.status.busy": "2023-07-14T04:31:20.052018Z",
     "iopub.status.idle": "2023-07-14T04:31:20.072878Z",
     "shell.execute_reply": "2023-07-14T04:31:20.071317Z"
    },
    "papermill": {
     "duration": 0.031741,
     "end_time": "2023-07-14T04:31:20.075686",
     "exception": false,
     "start_time": "2023-07-14T04:31:20.043945",
     "status": "completed"
    },
    "tags": []
   },
   "outputs": [
    {
     "data": {
      "application/javascript": [
       "parent.postMessage({\"jupyterEvent\": \"custom.exercise_interaction\", \"data\": {\"outcomeType\": 1, \"valueTowardsCompletion\": 0.25, \"interactionType\": 1, \"questionType\": 1, \"questionId\": \"3_CountMissingPrices\", \"learnToolsVersion\": \"0.3.4\", \"failureMessage\": \"\", \"exceptionClass\": \"\", \"trace\": \"\"}}, \"*\")"
      ],
      "text/plain": [
       "<IPython.core.display.Javascript object>"
      ]
     },
     "metadata": {},
     "output_type": "display_data"
    },
    {
     "data": {
      "text/markdown": [
       "<span style=\"color:#33cc33\">Correct</span>"
      ],
      "text/plain": [
       "Correct"
      ]
     },
     "metadata": {},
     "output_type": "display_data"
    }
   ],
   "source": [
    "missing_price_reviews=reviews[reviews.price.isnull()]\n",
    "n_missing_prices = len(missing_price_reviews)\n",
    "n_missing_prices = reviews.price.isnull().sum()\n",
    "n_missing_prices=pd.isnull(reviews.price).sum()\n",
    "# Check your answer\n",
    "q3.check()"
   ]
  },
  {
   "cell_type": "code",
   "execution_count": 7,
   "id": "9a453f7d",
   "metadata": {
    "execution": {
     "iopub.execute_input": "2023-07-14T04:31:20.092720Z",
     "iopub.status.busy": "2023-07-14T04:31:20.092328Z",
     "iopub.status.idle": "2023-07-14T04:31:20.098001Z",
     "shell.execute_reply": "2023-07-14T04:31:20.096593Z"
    },
    "papermill": {
     "duration": 0.018677,
     "end_time": "2023-07-14T04:31:20.101442",
     "exception": false,
     "start_time": "2023-07-14T04:31:20.082765",
     "status": "completed"
    },
    "tags": []
   },
   "outputs": [],
   "source": [
    "#q3.hint()\n",
    "#q3.solution()"
   ]
  },
  {
   "cell_type": "markdown",
   "id": "bf684ff5",
   "metadata": {
    "papermill": {
     "duration": 0.006679,
     "end_time": "2023-07-14T04:31:20.115897",
     "exception": false,
     "start_time": "2023-07-14T04:31:20.109218",
     "status": "completed"
    },
    "tags": []
   },
   "source": [
    "## 4.\n",
    "What are the most common wine-producing regions? Create a Series counting the number of times each value occurs in the `region_1` field. This field is often missing data, so replace missing values with `Unknown`. Sort in descending order.  Your output should look something like this:\n",
    "\n",
    "```\n",
    "Unknown                    21247\n",
    "Napa Valley                 4480\n",
    "                           ...  \n",
    "Bardolino Superiore            1\n",
    "Primitivo del Tarantino        1\n",
    "Name: region_1, Length: 1230, dtype: int64\n",
    "```"
   ]
  },
  {
   "cell_type": "code",
   "execution_count": 8,
   "id": "1993c4e5",
   "metadata": {
    "execution": {
     "iopub.execute_input": "2023-07-14T04:31:20.133097Z",
     "iopub.status.busy": "2023-07-14T04:31:20.132689Z",
     "iopub.status.idle": "2023-07-14T04:31:20.219009Z",
     "shell.execute_reply": "2023-07-14T04:31:20.217655Z"
    },
    "papermill": {
     "duration": 0.098971,
     "end_time": "2023-07-14T04:31:20.221860",
     "exception": false,
     "start_time": "2023-07-14T04:31:20.122889",
     "status": "completed"
    },
    "tags": []
   },
   "outputs": [
    {
     "data": {
      "application/javascript": [
       "parent.postMessage({\"jupyterEvent\": \"custom.exercise_interaction\", \"data\": {\"outcomeType\": 1, \"valueTowardsCompletion\": 0.25, \"interactionType\": 1, \"questionType\": 2, \"questionId\": \"4_ReviewsPerRegion\", \"learnToolsVersion\": \"0.3.4\", \"failureMessage\": \"\", \"exceptionClass\": \"\", \"trace\": \"\"}}, \"*\")"
      ],
      "text/plain": [
       "<IPython.core.display.Javascript object>"
      ]
     },
     "metadata": {},
     "output_type": "display_data"
    },
    {
     "data": {
      "text/markdown": [
       "<span style=\"color:#33cc33\">Correct</span>"
      ],
      "text/plain": [
       "Correct"
      ]
     },
     "metadata": {},
     "output_type": "display_data"
    }
   ],
   "source": [
    "reviews_per_region = reviews.region_1.fillna('Unknown').value_counts().sort_values(ascending=False)\n",
    "\n",
    "# Check your answer\n",
    "q4.check()"
   ]
  },
  {
   "cell_type": "code",
   "execution_count": 9,
   "id": "4f36210d",
   "metadata": {
    "execution": {
     "iopub.execute_input": "2023-07-14T04:31:20.238824Z",
     "iopub.status.busy": "2023-07-14T04:31:20.238381Z",
     "iopub.status.idle": "2023-07-14T04:31:20.244570Z",
     "shell.execute_reply": "2023-07-14T04:31:20.243144Z"
    },
    "papermill": {
     "duration": 0.018684,
     "end_time": "2023-07-14T04:31:20.247872",
     "exception": false,
     "start_time": "2023-07-14T04:31:20.229188",
     "status": "completed"
    },
    "tags": []
   },
   "outputs": [],
   "source": [
    "#q4.hint()\n",
    "#q4.solution()"
   ]
  },
  {
   "cell_type": "markdown",
   "id": "8ccbf783",
   "metadata": {
    "papermill": {
     "duration": 0.006987,
     "end_time": "2023-07-14T04:31:20.262147",
     "exception": false,
     "start_time": "2023-07-14T04:31:20.255160",
     "status": "completed"
    },
    "tags": []
   },
   "source": [
    "# Keep going\n",
    "\n",
    "Move on to **[renaming and combining](https://www.kaggle.com/residentmario/renaming-and-combining)**."
   ]
  },
  {
   "cell_type": "markdown",
   "id": "ae7c53b4",
   "metadata": {
    "papermill": {
     "duration": 0.007079,
     "end_time": "2023-07-14T04:31:20.276509",
     "exception": false,
     "start_time": "2023-07-14T04:31:20.269430",
     "status": "completed"
    },
    "tags": []
   },
   "source": [
    "---\n",
    "\n",
    "\n",
    "\n",
    "\n",
    "*Have questions or comments? Visit the [course discussion forum](https://www.kaggle.com/learn/pandas/discussion) to chat with other learners.*"
   ]
  }
 ],
 "metadata": {
  "kernelspec": {
   "display_name": "Python 3",
   "language": "python",
   "name": "python3"
  },
  "language_info": {
   "codemirror_mode": {
    "name": "ipython",
    "version": 3
   },
   "file_extension": ".py",
   "mimetype": "text/x-python",
   "name": "python",
   "nbconvert_exporter": "python",
   "pygments_lexer": "ipython3",
   "version": "3.10.12"
  },
  "papermill": {
   "default_parameters": {},
   "duration": 18.534615,
   "end_time": "2023-07-14T04:31:21.309467",
   "environment_variables": {},
   "exception": null,
   "input_path": "__notebook__.ipynb",
   "output_path": "__notebook__.ipynb",
   "parameters": {},
   "start_time": "2023-07-14T04:31:02.774852",
   "version": "2.4.0"
  }
 },
 "nbformat": 4,
 "nbformat_minor": 5
}
