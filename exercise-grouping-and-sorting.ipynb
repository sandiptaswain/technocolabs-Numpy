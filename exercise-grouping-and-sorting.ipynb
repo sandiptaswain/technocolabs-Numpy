{
 "cells": [
  {
   "cell_type": "markdown",
   "id": "f651a75a",
   "metadata": {
    "papermill": {
     "duration": 0.006084,
     "end_time": "2023-07-14T04:22:18.330983",
     "exception": false,
     "start_time": "2023-07-14T04:22:18.324899",
     "status": "completed"
    },
    "tags": []
   },
   "source": [
    "**This notebook is an exercise in the [Pandas](https://www.kaggle.com/learn/pandas) course.  You can reference the tutorial at [this link](https://www.kaggle.com/residentmario/grouping-and-sorting).**\n",
    "\n",
    "---\n"
   ]
  },
  {
   "cell_type": "markdown",
   "id": "121fcf5b",
   "metadata": {
    "papermill": {
     "duration": 0.005065,
     "end_time": "2023-07-14T04:22:18.341927",
     "exception": false,
     "start_time": "2023-07-14T04:22:18.336862",
     "status": "completed"
    },
    "tags": []
   },
   "source": [
    "# Introduction\n",
    "\n",
    "In these exercises we'll apply groupwise analysis to our dataset.\n",
    "\n",
    "Run the code cell below to load the data before running the exercises."
   ]
  },
  {
   "cell_type": "code",
   "execution_count": 1,
   "id": "a8c396ef",
   "metadata": {
    "execution": {
     "iopub.execute_input": "2023-07-14T04:22:18.354791Z",
     "iopub.status.busy": "2023-07-14T04:22:18.353913Z",
     "iopub.status.idle": "2023-07-14T04:22:21.470001Z",
     "shell.execute_reply": "2023-07-14T04:22:21.468436Z"
    },
    "papermill": {
     "duration": 3.12531,
     "end_time": "2023-07-14T04:22:21.472389",
     "exception": false,
     "start_time": "2023-07-14T04:22:18.347079",
     "status": "completed"
    },
    "tags": []
   },
   "outputs": [
    {
     "name": "stdout",
     "output_type": "stream",
     "text": [
      "Setup complete.\n"
     ]
    }
   ],
   "source": [
    "import pandas as pd\n",
    "\n",
    "reviews = pd.read_csv(\"../input/wine-reviews/winemag-data-130k-v2.csv\", index_col=0)\n",
    "#pd.set_option(\"display.max_rows\", 5)\n",
    "\n",
    "from learntools.core import binder; binder.bind(globals())\n",
    "from learntools.pandas.grouping_and_sorting import *\n",
    "print(\"Setup complete.\")"
   ]
  },
  {
   "cell_type": "markdown",
   "id": "fbe4ebd7",
   "metadata": {
    "papermill": {
     "duration": 0.005191,
     "end_time": "2023-07-14T04:22:21.483264",
     "exception": false,
     "start_time": "2023-07-14T04:22:21.478073",
     "status": "completed"
    },
    "tags": []
   },
   "source": [
    "# Exercises"
   ]
  },
  {
   "cell_type": "markdown",
   "id": "a323f9b7",
   "metadata": {
    "papermill": {
     "duration": 0.005152,
     "end_time": "2023-07-14T04:22:21.493838",
     "exception": false,
     "start_time": "2023-07-14T04:22:21.488686",
     "status": "completed"
    },
    "tags": []
   },
   "source": [
    "## 1.\n",
    "Who are the most common wine reviewers in the dataset? Create a `Series` whose index is the `taster_twitter_handle` category from the dataset, and whose values count how many reviews each person wrote."
   ]
  },
  {
   "cell_type": "code",
   "execution_count": 2,
   "id": "9dbdc77a",
   "metadata": {
    "execution": {
     "iopub.execute_input": "2023-07-14T04:22:21.506309Z",
     "iopub.status.busy": "2023-07-14T04:22:21.505955Z",
     "iopub.status.idle": "2023-07-14T04:22:21.529770Z",
     "shell.execute_reply": "2023-07-14T04:22:21.528660Z"
    },
    "papermill": {
     "duration": 0.032625,
     "end_time": "2023-07-14T04:22:21.531809",
     "exception": false,
     "start_time": "2023-07-14T04:22:21.499184",
     "status": "completed"
    },
    "tags": []
   },
   "outputs": [
    {
     "data": {
      "application/javascript": [
       "parent.postMessage({\"jupyterEvent\": \"custom.exercise_interaction\", \"data\": {\"outcomeType\": 1, \"valueTowardsCompletion\": 0.16666666666666666, \"interactionType\": 1, \"questionType\": 1, \"questionId\": \"1_ReviewsWritten\", \"learnToolsVersion\": \"0.3.4\", \"failureMessage\": \"\", \"exceptionClass\": \"\", \"trace\": \"\"}}, \"*\")"
      ],
      "text/plain": [
       "<IPython.core.display.Javascript object>"
      ]
     },
     "metadata": {},
     "output_type": "display_data"
    },
    {
     "data": {
      "text/markdown": [
       "<span style=\"color:#33cc33\">Correct:</span> \n",
       "\n",
       "\n",
       "```python\n",
       "reviews_written = reviews.groupby('taster_twitter_handle').size()\n",
       "```\n",
       "or\n",
       "```python\n",
       "reviews_written = reviews.groupby('taster_twitter_handle').taster_twitter_handle.count()\n",
       "```\n"
      ],
      "text/plain": [
       "Correct: \n",
       "\n",
       "\n",
       "```python\n",
       "reviews_written = reviews.groupby('taster_twitter_handle').size()\n",
       "```\n",
       "or\n",
       "```python\n",
       "reviews_written = reviews.groupby('taster_twitter_handle').taster_twitter_handle.count()\n",
       "```"
      ]
     },
     "metadata": {},
     "output_type": "display_data"
    }
   ],
   "source": [
    "# Your code here\n",
    "reviews_written = reviews.groupby('taster_twitter_handle').size()\n",
    "\n",
    "# Check your answer\n",
    "q1.check()"
   ]
  },
  {
   "cell_type": "code",
   "execution_count": 3,
   "id": "f7eeef8a",
   "metadata": {
    "execution": {
     "iopub.execute_input": "2023-07-14T04:22:21.545118Z",
     "iopub.status.busy": "2023-07-14T04:22:21.544722Z",
     "iopub.status.idle": "2023-07-14T04:22:21.549162Z",
     "shell.execute_reply": "2023-07-14T04:22:21.548150Z"
    },
    "papermill": {
     "duration": 0.013427,
     "end_time": "2023-07-14T04:22:21.551312",
     "exception": false,
     "start_time": "2023-07-14T04:22:21.537885",
     "status": "completed"
    },
    "tags": []
   },
   "outputs": [],
   "source": [
    "#q1.hint()\n",
    "#q1.solution()"
   ]
  },
  {
   "cell_type": "markdown",
   "id": "b7e86c6c",
   "metadata": {
    "papermill": {
     "duration": 0.006673,
     "end_time": "2023-07-14T04:22:21.563680",
     "exception": false,
     "start_time": "2023-07-14T04:22:21.557007",
     "status": "completed"
    },
    "tags": []
   },
   "source": [
    "## 2.\n",
    "What is the best wine I can buy for a given amount of money? Create a `Series` whose index is wine prices and whose values is the maximum number of points a wine costing that much was given in a review. Sort the values by price, ascending (so that `4.0` dollars is at the top and `3300.0` dollars is at the bottom)."
   ]
  },
  {
   "cell_type": "code",
   "execution_count": 4,
   "id": "9c6b483e",
   "metadata": {
    "execution": {
     "iopub.execute_input": "2023-07-14T04:22:21.576518Z",
     "iopub.status.busy": "2023-07-14T04:22:21.576109Z",
     "iopub.status.idle": "2023-07-14T04:22:21.590462Z",
     "shell.execute_reply": "2023-07-14T04:22:21.589384Z"
    },
    "papermill": {
     "duration": 0.023277,
     "end_time": "2023-07-14T04:22:21.592536",
     "exception": false,
     "start_time": "2023-07-14T04:22:21.569259",
     "status": "completed"
    },
    "tags": []
   },
   "outputs": [
    {
     "data": {
      "application/javascript": [
       "parent.postMessage({\"jupyterEvent\": \"custom.exercise_interaction\", \"data\": {\"outcomeType\": 1, \"valueTowardsCompletion\": 0.16666666666666666, \"interactionType\": 1, \"questionType\": 1, \"questionId\": \"2_BestRatingPerPrice\", \"learnToolsVersion\": \"0.3.4\", \"failureMessage\": \"\", \"exceptionClass\": \"\", \"trace\": \"\"}}, \"*\")"
      ],
      "text/plain": [
       "<IPython.core.display.Javascript object>"
      ]
     },
     "metadata": {},
     "output_type": "display_data"
    },
    {
     "data": {
      "text/markdown": [
       "<span style=\"color:#33cc33\">Correct</span>"
      ],
      "text/plain": [
       "Correct"
      ]
     },
     "metadata": {},
     "output_type": "display_data"
    }
   ],
   "source": [
    "best_rating_per_price = reviews.groupby('price')['points'].max().sort_index()\n",
    "\n",
    "# Check your answer\n",
    "q2.check()"
   ]
  },
  {
   "cell_type": "code",
   "execution_count": 5,
   "id": "25937ea7",
   "metadata": {
    "execution": {
     "iopub.execute_input": "2023-07-14T04:22:21.606114Z",
     "iopub.status.busy": "2023-07-14T04:22:21.605754Z",
     "iopub.status.idle": "2023-07-14T04:22:21.609873Z",
     "shell.execute_reply": "2023-07-14T04:22:21.608916Z"
    },
    "papermill": {
     "duration": 0.013553,
     "end_time": "2023-07-14T04:22:21.612134",
     "exception": false,
     "start_time": "2023-07-14T04:22:21.598581",
     "status": "completed"
    },
    "tags": []
   },
   "outputs": [],
   "source": [
    "#q2.hint()\n",
    "#q2.solution()"
   ]
  },
  {
   "cell_type": "markdown",
   "id": "bc02a0cf",
   "metadata": {
    "papermill": {
     "duration": 0.005664,
     "end_time": "2023-07-14T04:22:21.623845",
     "exception": false,
     "start_time": "2023-07-14T04:22:21.618181",
     "status": "completed"
    },
    "tags": []
   },
   "source": [
    "## 3.\n",
    "What are the minimum and maximum prices for each `variety` of wine? Create a `DataFrame` whose index is the `variety` category from the dataset and whose values are the `min` and `max` values thereof."
   ]
  },
  {
   "cell_type": "code",
   "execution_count": 6,
   "id": "83e3116e",
   "metadata": {
    "execution": {
     "iopub.execute_input": "2023-07-14T04:22:21.638500Z",
     "iopub.status.busy": "2023-07-14T04:22:21.638093Z",
     "iopub.status.idle": "2023-07-14T04:22:21.665138Z",
     "shell.execute_reply": "2023-07-14T04:22:21.663934Z"
    },
    "papermill": {
     "duration": 0.037186,
     "end_time": "2023-07-14T04:22:21.667459",
     "exception": false,
     "start_time": "2023-07-14T04:22:21.630273",
     "status": "completed"
    },
    "tags": []
   },
   "outputs": [
    {
     "data": {
      "application/javascript": [
       "parent.postMessage({\"jupyterEvent\": \"custom.exercise_interaction\", \"data\": {\"outcomeType\": 1, \"valueTowardsCompletion\": 0.16666666666666666, \"interactionType\": 1, \"questionType\": 1, \"questionId\": \"3_PriceExtremes\", \"learnToolsVersion\": \"0.3.4\", \"failureMessage\": \"\", \"exceptionClass\": \"\", \"trace\": \"\"}}, \"*\")"
      ],
      "text/plain": [
       "<IPython.core.display.Javascript object>"
      ]
     },
     "metadata": {},
     "output_type": "display_data"
    },
    {
     "data": {
      "text/markdown": [
       "<span style=\"color:#33cc33\">Correct</span>"
      ],
      "text/plain": [
       "Correct"
      ]
     },
     "metadata": {},
     "output_type": "display_data"
    }
   ],
   "source": [
    "price_extremes =reviews.groupby('variety').price.agg([min, max])\n",
    "\n",
    "# Check your answer\n",
    "q3.check()"
   ]
  },
  {
   "cell_type": "code",
   "execution_count": 7,
   "id": "78af3cc4",
   "metadata": {
    "execution": {
     "iopub.execute_input": "2023-07-14T04:22:21.682580Z",
     "iopub.status.busy": "2023-07-14T04:22:21.681601Z",
     "iopub.status.idle": "2023-07-14T04:22:21.685899Z",
     "shell.execute_reply": "2023-07-14T04:22:21.685131Z"
    },
    "papermill": {
     "duration": 0.013964,
     "end_time": "2023-07-14T04:22:21.687817",
     "exception": false,
     "start_time": "2023-07-14T04:22:21.673853",
     "status": "completed"
    },
    "tags": []
   },
   "outputs": [],
   "source": [
    "#q3.hint()\n",
    "#q3.solution()"
   ]
  },
  {
   "cell_type": "markdown",
   "id": "d3d0b67a",
   "metadata": {
    "papermill": {
     "duration": 0.005945,
     "end_time": "2023-07-14T04:22:21.700137",
     "exception": false,
     "start_time": "2023-07-14T04:22:21.694192",
     "status": "completed"
    },
    "tags": []
   },
   "source": [
    "## 4.\n",
    "What are the most expensive wine varieties? Create a variable `sorted_varieties` containing a copy of the dataframe from the previous question where varieties are sorted in descending order based on minimum price, then on maximum price (to break ties)."
   ]
  },
  {
   "cell_type": "code",
   "execution_count": 8,
   "id": "f850c5b9",
   "metadata": {
    "execution": {
     "iopub.execute_input": "2023-07-14T04:22:21.714157Z",
     "iopub.status.busy": "2023-07-14T04:22:21.713763Z",
     "iopub.status.idle": "2023-07-14T04:22:21.725603Z",
     "shell.execute_reply": "2023-07-14T04:22:21.724385Z"
    },
    "papermill": {
     "duration": 0.021539,
     "end_time": "2023-07-14T04:22:21.727861",
     "exception": false,
     "start_time": "2023-07-14T04:22:21.706322",
     "status": "completed"
    },
    "tags": []
   },
   "outputs": [
    {
     "data": {
      "application/javascript": [
       "parent.postMessage({\"jupyterEvent\": \"custom.exercise_interaction\", \"data\": {\"outcomeType\": 1, \"valueTowardsCompletion\": 0.16666666666666666, \"interactionType\": 1, \"questionType\": 1, \"questionId\": \"4_SortedVarieties\", \"learnToolsVersion\": \"0.3.4\", \"failureMessage\": \"\", \"exceptionClass\": \"\", \"trace\": \"\"}}, \"*\")"
      ],
      "text/plain": [
       "<IPython.core.display.Javascript object>"
      ]
     },
     "metadata": {},
     "output_type": "display_data"
    },
    {
     "data": {
      "text/markdown": [
       "<span style=\"color:#33cc33\">Correct</span>"
      ],
      "text/plain": [
       "Correct"
      ]
     },
     "metadata": {},
     "output_type": "display_data"
    }
   ],
   "source": [
    "sorted_varieties = price_extremes.sort_values(by=['min', 'max'], ascending=False)\n",
    "\n",
    "# Check your answer\n",
    "q4.check()"
   ]
  },
  {
   "cell_type": "code",
   "execution_count": 9,
   "id": "757f3f28",
   "metadata": {
    "execution": {
     "iopub.execute_input": "2023-07-14T04:22:21.742837Z",
     "iopub.status.busy": "2023-07-14T04:22:21.742464Z",
     "iopub.status.idle": "2023-07-14T04:22:21.747465Z",
     "shell.execute_reply": "2023-07-14T04:22:21.746324Z"
    },
    "papermill": {
     "duration": 0.014992,
     "end_time": "2023-07-14T04:22:21.749671",
     "exception": false,
     "start_time": "2023-07-14T04:22:21.734679",
     "status": "completed"
    },
    "tags": []
   },
   "outputs": [],
   "source": [
    "#q4.hint()\n",
    "#q4.solution()"
   ]
  },
  {
   "cell_type": "markdown",
   "id": "b9ffc356",
   "metadata": {
    "papermill": {
     "duration": 0.006539,
     "end_time": "2023-07-14T04:22:21.762751",
     "exception": false,
     "start_time": "2023-07-14T04:22:21.756212",
     "status": "completed"
    },
    "tags": []
   },
   "source": [
    "## 5.\n",
    "Create a `Series` whose index is reviewers and whose values is the average review score given out by that reviewer. Hint: you will need the `taster_name` and `points` columns."
   ]
  },
  {
   "cell_type": "code",
   "execution_count": 10,
   "id": "9b41ed22",
   "metadata": {
    "execution": {
     "iopub.execute_input": "2023-07-14T04:22:21.778225Z",
     "iopub.status.busy": "2023-07-14T04:22:21.777872Z",
     "iopub.status.idle": "2023-07-14T04:22:21.799037Z",
     "shell.execute_reply": "2023-07-14T04:22:21.798118Z"
    },
    "papermill": {
     "duration": 0.031477,
     "end_time": "2023-07-14T04:22:21.800989",
     "exception": false,
     "start_time": "2023-07-14T04:22:21.769512",
     "status": "completed"
    },
    "tags": []
   },
   "outputs": [
    {
     "data": {
      "application/javascript": [
       "parent.postMessage({\"jupyterEvent\": \"custom.exercise_interaction\", \"data\": {\"outcomeType\": 1, \"valueTowardsCompletion\": 0.16666666666666666, \"interactionType\": 1, \"questionType\": 1, \"questionId\": \"5_ReviewerMeanRatings\", \"learnToolsVersion\": \"0.3.4\", \"failureMessage\": \"\", \"exceptionClass\": \"\", \"trace\": \"\"}}, \"*\")"
      ],
      "text/plain": [
       "<IPython.core.display.Javascript object>"
      ]
     },
     "metadata": {},
     "output_type": "display_data"
    },
    {
     "data": {
      "text/markdown": [
       "<span style=\"color:#33cc33\">Correct</span>"
      ],
      "text/plain": [
       "Correct"
      ]
     },
     "metadata": {},
     "output_type": "display_data"
    }
   ],
   "source": [
    "reviewer_mean_ratings = reviews.groupby('taster_name').points.mean()\n",
    "\n",
    "# Check your answer\n",
    "q5.check()"
   ]
  },
  {
   "cell_type": "code",
   "execution_count": 11,
   "id": "363ee151",
   "metadata": {
    "execution": {
     "iopub.execute_input": "2023-07-14T04:22:21.816524Z",
     "iopub.status.busy": "2023-07-14T04:22:21.816109Z",
     "iopub.status.idle": "2023-07-14T04:22:21.820404Z",
     "shell.execute_reply": "2023-07-14T04:22:21.819402Z"
    },
    "papermill": {
     "duration": 0.014638,
     "end_time": "2023-07-14T04:22:21.822411",
     "exception": false,
     "start_time": "2023-07-14T04:22:21.807773",
     "status": "completed"
    },
    "tags": []
   },
   "outputs": [],
   "source": [
    "#q5.hint()\n",
    "#q5.solution()"
   ]
  },
  {
   "cell_type": "markdown",
   "id": "100a408f",
   "metadata": {
    "papermill": {
     "duration": 0.006324,
     "end_time": "2023-07-14T04:22:21.835783",
     "exception": false,
     "start_time": "2023-07-14T04:22:21.829459",
     "status": "completed"
    },
    "tags": []
   },
   "source": [
    "Are there significant differences in the average scores assigned by the various reviewers? Run the cell below to use the `describe()` method to see a summary of the range of values."
   ]
  },
  {
   "cell_type": "code",
   "execution_count": 12,
   "id": "94a1a128",
   "metadata": {
    "execution": {
     "iopub.execute_input": "2023-07-14T04:22:21.850801Z",
     "iopub.status.busy": "2023-07-14T04:22:21.850391Z",
     "iopub.status.idle": "2023-07-14T04:22:21.864664Z",
     "shell.execute_reply": "2023-07-14T04:22:21.863876Z"
    },
    "papermill": {
     "duration": 0.024171,
     "end_time": "2023-07-14T04:22:21.866678",
     "exception": false,
     "start_time": "2023-07-14T04:22:21.842507",
     "status": "completed"
    },
    "tags": []
   },
   "outputs": [
    {
     "data": {
      "text/plain": [
       "count    19.000000\n",
       "mean     88.233026\n",
       "std       1.243610\n",
       "min      85.855422\n",
       "25%      87.323501\n",
       "50%      88.536235\n",
       "75%      88.975256\n",
       "max      90.562551\n",
       "Name: points, dtype: float64"
      ]
     },
     "execution_count": 12,
     "metadata": {},
     "output_type": "execute_result"
    }
   ],
   "source": [
    "reviewer_mean_ratings.describe()"
   ]
  },
  {
   "cell_type": "markdown",
   "id": "fbe50129",
   "metadata": {
    "papermill": {
     "duration": 0.006572,
     "end_time": "2023-07-14T04:22:21.880270",
     "exception": false,
     "start_time": "2023-07-14T04:22:21.873698",
     "status": "completed"
    },
    "tags": []
   },
   "source": [
    "## 6.\n",
    "What combination of countries and varieties are most common? Create a `Series` whose index is a `MultiIndex`of `{country, variety}` pairs. For example, a pinot noir produced in the US should map to `{\"US\", \"Pinot Noir\"}`. Sort the values in the `Series` in descending order based on wine count."
   ]
  },
  {
   "cell_type": "code",
   "execution_count": 13,
   "id": "e7ed095a",
   "metadata": {
    "execution": {
     "iopub.execute_input": "2023-07-14T04:22:21.895613Z",
     "iopub.status.busy": "2023-07-14T04:22:21.895177Z",
     "iopub.status.idle": "2023-07-14T04:22:21.934170Z",
     "shell.execute_reply": "2023-07-14T04:22:21.933099Z"
    },
    "papermill": {
     "duration": 0.049164,
     "end_time": "2023-07-14T04:22:21.936300",
     "exception": false,
     "start_time": "2023-07-14T04:22:21.887136",
     "status": "completed"
    },
    "tags": []
   },
   "outputs": [
    {
     "data": {
      "application/javascript": [
       "parent.postMessage({\"jupyterEvent\": \"custom.exercise_interaction\", \"data\": {\"outcomeType\": 1, \"valueTowardsCompletion\": 0.16666666666666666, \"interactionType\": 1, \"questionType\": 1, \"questionId\": \"6_GroupbyCountryVariety\", \"learnToolsVersion\": \"0.3.4\", \"failureMessage\": \"\", \"exceptionClass\": \"\", \"trace\": \"\"}}, \"*\")"
      ],
      "text/plain": [
       "<IPython.core.display.Javascript object>"
      ]
     },
     "metadata": {},
     "output_type": "display_data"
    },
    {
     "data": {
      "text/markdown": [
       "<span style=\"color:#33cc33\">Correct</span>"
      ],
      "text/plain": [
       "Correct"
      ]
     },
     "metadata": {},
     "output_type": "display_data"
    }
   ],
   "source": [
    "country_variety_counts = reviews.groupby(['country', 'variety']).size().sort_values(ascending=False)\n",
    "\n",
    "# Check your answer\n",
    "q6.check()"
   ]
  },
  {
   "cell_type": "code",
   "execution_count": 14,
   "id": "cff5a23e",
   "metadata": {
    "execution": {
     "iopub.execute_input": "2023-07-14T04:22:21.952106Z",
     "iopub.status.busy": "2023-07-14T04:22:21.951752Z",
     "iopub.status.idle": "2023-07-14T04:22:21.956454Z",
     "shell.execute_reply": "2023-07-14T04:22:21.955193Z"
    },
    "papermill": {
     "duration": 0.015013,
     "end_time": "2023-07-14T04:22:21.958561",
     "exception": false,
     "start_time": "2023-07-14T04:22:21.943548",
     "status": "completed"
    },
    "tags": []
   },
   "outputs": [],
   "source": [
    "#q6.hint()\n",
    "#q6.solution()"
   ]
  },
  {
   "cell_type": "markdown",
   "id": "0a58269c",
   "metadata": {
    "papermill": {
     "duration": 0.006838,
     "end_time": "2023-07-14T04:22:21.972557",
     "exception": false,
     "start_time": "2023-07-14T04:22:21.965719",
     "status": "completed"
    },
    "tags": []
   },
   "source": [
    "# Keep going\n",
    "\n",
    "Move on to the [**data types and missing data**](https://www.kaggle.com/residentmario/data-types-and-missing-values)."
   ]
  },
  {
   "cell_type": "markdown",
   "id": "db97a816",
   "metadata": {
    "papermill": {
     "duration": 0.006815,
     "end_time": "2023-07-14T04:22:21.986549",
     "exception": false,
     "start_time": "2023-07-14T04:22:21.979734",
     "status": "completed"
    },
    "tags": []
   },
   "source": [
    "---\n",
    "\n",
    "\n",
    "\n",
    "\n",
    "*Have questions or comments? Visit the [course discussion forum](https://www.kaggle.com/learn/pandas/discussion) to chat with other learners.*"
   ]
  }
 ],
 "metadata": {
  "kernelspec": {
   "display_name": "Python 3",
   "language": "python",
   "name": "python3"
  },
  "language_info": {
   "codemirror_mode": {
    "name": "ipython",
    "version": 3
   },
   "file_extension": ".py",
   "mimetype": "text/x-python",
   "name": "python",
   "nbconvert_exporter": "python",
   "pygments_lexer": "ipython3",
   "version": "3.10.12"
  },
  "papermill": {
   "default_parameters": {},
   "duration": 14.079821,
   "end_time": "2023-07-14T04:22:22.814535",
   "environment_variables": {},
   "exception": null,
   "input_path": "__notebook__.ipynb",
   "output_path": "__notebook__.ipynb",
   "parameters": {},
   "start_time": "2023-07-14T04:22:08.734714",
   "version": "2.4.0"
  }
 },
 "nbformat": 4,
 "nbformat_minor": 5
}
